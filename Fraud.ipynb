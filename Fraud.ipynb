{
  "cells": [
    {
      "cell_type": "code",
      "source": [
        "# Kết nối COLAB với GDrive\n",
        "from google.colab import drive\n",
        "drive.mount('/content/drive')"
      ],
      "metadata": {
        "id": "-evqdZ0rJhP5"
      },
      "execution_count": null,
      "outputs": []
    },
    {
      "cell_type": "code",
      "execution_count": null,
      "metadata": {
        "id": "M-mCvhRT78jH"
      },
      "outputs": [],
      "source": [
        "# Đọc dữ liệu\n",
        "import pandas as pd\n",
        "\n",
        "df = pd.read_csv(\"/content/drive/MyDrive/Bank_Detection/creditcard.csv\")\n",
        "df.head()"
      ]
    },
    {
      "cell_type": "code",
      "source": [
        "from google.colab import drive\n",
        "drive.mount('/content/drive')"
      ],
      "metadata": {
        "id": "G37WRW3DR3XQ"
      },
      "execution_count": null,
      "outputs": []
    },
    {
      "cell_type": "code",
      "execution_count": null,
      "metadata": {
        "id": "MruPXmr98e6p"
      },
      "outputs": [],
      "source": [
        "# Đếm số dòng dữ liệu\n",
        "df.count()"
      ]
    },
    {
      "cell_type": "code",
      "execution_count": null,
      "metadata": {
        "id": "3t-9daEw8jjy"
      },
      "outputs": [],
      "source": [
        "# Số dòng dữ liệu mỗi class\n",
        "df['Class'].value_counts()"
      ]
    },
    {
      "cell_type": "markdown",
      "metadata": {
        "id": "HpQN5PO987jv"
      },
      "source": [
        "**Train model auto Encoder**"
      ]
    },
    {
      "cell_type": "code",
      "execution_count": null,
      "metadata": {
        "id": "_ycOTvLg8-Bq"
      },
      "outputs": [],
      "source": [
        "# Drop cột time\n",
        "df_no_time = df.drop(columns=['Time'])\n"
      ]
    },
    {
      "cell_type": "code",
      "execution_count": null,
      "metadata": {
        "id": "IhfZd2Ea-swv"
      },
      "outputs": [],
      "source": [
        "df_no_time.head()"
      ]
    },
    {
      "cell_type": "code",
      "execution_count": null,
      "metadata": {
        "id": "51cIdrvl_Cfj"
      },
      "outputs": [],
      "source": [
        "# Phân chia dữ liệu train test\n",
        "from sklearn.model_selection import train_test_split\n",
        "\n",
        "X_train, X_test = train_test_split(df_no_time , test_size = 0.2, random_state=42)\n",
        "\n",
        "# Diều chế dữ liệu train\n",
        "X_train = X_train[X_train['Class']==0]\n",
        "X_train = X_train.drop(columns=['Class'])\n",
        "\n",
        "# Điều chế X_test\n",
        "y_test = X_test['Class']\n",
        "X_test = X_test.drop(columns=['Class'])\n",
        "\n",
        "X_train = X_train.values\n",
        "X_test = X_test.values\n"
      ]
    },
    {
      "cell_type": "code",
      "execution_count": null,
      "metadata": {
        "id": "4P4Mtw7s-YGN"
      },
      "outputs": [],
      "source": [
        "from sklearn.preprocessing import StandardScaler\n",
        "\n",
        "df_no_time ['Amount'] = StandardScaler().fit_transform(df_no_time['Amount'].values.reshape(-1,1))\n"
      ]
    },
    {
      "cell_type": "code",
      "execution_count": null,
      "metadata": {
        "id": "eMnQVx4YASAR"
      },
      "outputs": [],
      "source": [
        "print(X_train.shape)\n",
        "print(X_test.shape)\n",
        "print(y_test.shape)"
      ]
    },
    {
      "cell_type": "code",
      "execution_count": null,
      "metadata": {
        "id": "R6YQZsi1JcTi"
      },
      "outputs": [],
      "source": [
        "from keras.layers import Input, Dense\n",
        "from keras.models import load_model, Model\n",
        "from keras.callbacks import ModelCheckpoint"
      ]
    },
    {
      "cell_type": "code",
      "execution_count": null,
      "metadata": {
        "id": "9Kn29NReAcDw"
      },
      "outputs": [],
      "source": [
        "\n",
        "\n",
        "# Xây dựng model\n",
        "input_dimension = X_train.shape[1]\n",
        "hidden_size = 128\n",
        "\n",
        "input_layer = Input(shape=(input_dimension,))\n",
        "# Encoder\n",
        "encoder = Dense(hidden_size, activation = \"relu\") (input_layer)\n",
        "encoder = Dense(hidden_size //2, activation=\"relu\") (encoder)\n",
        "encoder = Dense(hidden_size //4, activation=\"relu\") (encoder)\n",
        "\n",
        "# Decoder\n",
        "decoder = Dense(hidden_size //4, activation=\"relu\") (encoder)\n",
        "decoder = Dense(hidden_size //2, activation=\"relu\") (decoder)\n",
        "decoder = Dense(hidden_size, activation = \"relu\") (decoder)\n",
        "\n",
        "# Output\n",
        "output_layer = Dense(input_dimension, activation=\"relu\") (decoder)\n",
        "\n",
        "auto_encoder_model= Model(inputs = input_layer, outputs = output_layer)\n",
        "auto_encoder_model.compile (optimizer =\"adam\", loss=\"mse\", metrics=['accuracy'])\n",
        "auto_encoder_model.summary()"
      ]
    },
    {
      "cell_type": "code",
      "execution_count": null,
      "metadata": {
        "id": "rUC6r_qZCTkD"
      },
      "outputs": [],
      "source": [
        "# Train model\n",
        "n_epochs = 30\n",
        "n_batch_size = 32\n",
        "\n",
        "save_best = ModelCheckpoint(filepath = \"/content/drive/MyDrive/Bank_Detection/best.h5\",\n",
        "                            monitor='val_loss', verbose=1, save_best_only=True)\n",
        "\n",
        "history = auto_encoder_model.fit(X_train, X_train, batch_size=n_batch_size, epochs=n_epochs,verbose=1,\n",
        "                                 shuffle=True, callbacks=[save_best],\n",
        "                                 validation_data=(X_test, X_test))\n",
        "\n"
      ]
    },
    {
      "cell_type": "code",
      "execution_count": null,
      "metadata": {
        "id": "DAk1EvdQDhx8"
      },
      "outputs": [],
      "source": [
        "# In history\n",
        "\n",
        "import matplotlib.pyplot as plt\n",
        "\n",
        "plt.plot(history.history['loss'])\n",
        "plt.plot(history.history['val_loss'])\n",
        "plt.legend()\n",
        "\n",
        "plt.xlabel(\"epoch\")\n",
        "plt.ylabel(\"loss\")\n",
        "plt.show()"
      ]
    },
    {
      "cell_type": "code",
      "execution_count": null,
      "metadata": {
        "id": "mB2Z3O4IHr4E"
      },
      "outputs": [],
      "source": [
        "# Kiểm tra việc tái tạo trong tập test\n",
        "import numpy as np\n",
        "\n",
        "# Dự đoán\n",
        "predicts = auto_encoder_model.predict(X_test)\n",
        "mse = np.mean(np.power(X_test - predicts,2), axis=1)\n",
        "err_df = pd.DataFrame({'error': mse, 'truth': y_test})\n"
      ]
    },
    {
      "cell_type": "code",
      "execution_count": null,
      "metadata": {
        "id": "9y0wDosvI2Va"
      },
      "outputs": [],
      "source": [
        "# In ra histogram của error khi tái tạo các điểm Normal trong tập test\n",
        "normal_error_df = err_df[(err_df['truth']==0) & (err_df['error'] < 10)]\n",
        "\n",
        "_ = plt.hist(normal_error_df.error.values, bins= 50)"
      ]
    },
    {
      "cell_type": "code",
      "execution_count": null,
      "metadata": {
        "id": "6OrJrhUSJcRQ"
      },
      "outputs": [],
      "source": [
        "# In ra histogram của error khi tái tạo các điểm Fraud trong tập test\n",
        "fraud_error_df = err_df[(err_df['truth']==1)]\n",
        "_ = plt.hist(fraud_error_df.error.values, bins= 100)"
      ]
    },
    {
      "cell_type": "code",
      "execution_count": null,
      "metadata": {
        "id": "eGiXG833Jxz4"
      },
      "outputs": [],
      "source": [
        "# Vẽ ra confusion matrix\n",
        "from sklearn.metrics import confusion_matrix\n",
        "import seaborn as sns\n",
        "\n",
        "threshold = 2.5\n",
        "\n",
        "y_pred = [1 if e > threshold else 0 for e in err_df.error.values]\n",
        "conf_matrix = confusion_matrix(err_df.truth, y_pred)\n",
        "\n",
        "# Vẽ\n",
        "sns.heatmap(conf_matrix, xticklabels=[\"Normal\", \"Fraud\"], yticklabels=['Normal','Fraud'], annot=True, fmt=\"d\")\n",
        "plt.title(\"Confusion Matrix\")\n",
        "plt.xlabel(\"Predited Values\")\n",
        "plt.ylabel(\"Truth\")\n",
        "plt.show"
      ]
    }
  ],
  "metadata": {
    "accelerator": "GPU",
    "colab": {
      "provenance": [],
      "gpuType": "T4",
      "private_outputs": true
    },
    "kernelspec": {
      "display_name": "Python 3",
      "name": "python3"
    },
    "language_info": {
      "codemirror_mode": {
        "name": "ipython",
        "version": 3
      },
      "file_extension": ".py",
      "mimetype": "text/x-python",
      "name": "python",
      "nbconvert_exporter": "python",
      "pygments_lexer": "ipython3",
      "version": "3.10.9"
    }
  },
  "nbformat": 4,
  "nbformat_minor": 0
}